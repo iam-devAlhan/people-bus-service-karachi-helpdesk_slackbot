{
 "cells": [
  {
   "cell_type": "code",
   "execution_count": null,
   "id": "2378068f",
   "metadata": {},
   "outputs": [],
   "source": [
    "# This is all scraping process done here\n",
    "import requests\n",
    "import pandas as pd\n",
    "from bs4 import BeautifulSoup\n",
    "\n",
    "response = requests.get(\"https://thinktransportation.net/red-bus-karachi/\")\n",
    "text = response.text\n",
    "soup = BeautifulSoup(text, \"html.parser\")\n",
    "\n",
    "table = soup.find(\"table\")\n",
    "rows = table.tbody.find_all(\"tr\")\n",
    "\n",
    "data = []\n",
    "for row in rows:\n",
    "    cols = row.find_all(\"td\")\n",
    "\n",
    "    if cols != []:\n",
    "        route_no = cols[0].text.strip()\n",
    "        route_length = cols[1].text.strip()\n",
    "        phase = cols[2].text.strip()\n",
    "        terminals = cols[3].text.strip()\n",
    "        routes = cols[4].text.strip()\n",
    "\n",
    "        data.append({\"BUS_NAME\": route_no, \"ROUTE LENGTH (km)\": route_length, \"PHASE\": phase, \"TERMINALS\": terminals, \"BUS STOPS\": routes})\n",
    "\n",
    "df = pd.DataFrame(data)\n",
    "df"
   ]
  }
 ],
 "metadata": {
  "kernelspec": {
   "display_name": "slack (3.10.12)",
   "language": "python",
   "name": "python3"
  },
  "language_info": {
   "codemirror_mode": {
    "name": "ipython",
    "version": 3
   },
   "file_extension": ".py",
   "mimetype": "text/x-python",
   "name": "python",
   "nbconvert_exporter": "python",
   "pygments_lexer": "ipython3",
   "version": "3.10.12"
  }
 },
 "nbformat": 4,
 "nbformat_minor": 5
}
